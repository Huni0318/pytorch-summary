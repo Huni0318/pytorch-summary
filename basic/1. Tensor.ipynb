{
 "cells": [
  {
   "cell_type": "markdown",
   "metadata": {
    "id": "v2Fwa0XhqPkY"
   },
   "source": [
    "# 1. 텐서\n",
    "\n",
    "텐서(Tensor)는 파이토치의 기본 단위이며 GPU 연산을 가능하게 한다. 또한 Numpy의 배열과 유사하여 손쉽게 다룰 수 있다."
   ]
  },
  {
   "cell_type": "markdown",
   "metadata": {
    "id": "qeQBiZD1qPkj"
   },
   "source": [
    "## 1.1 텐서 만들기"
   ]
  },
  {
   "cell_type": "code",
   "execution_count": 1,
   "metadata": {},
   "outputs": [],
   "source": [
    "# 라이브러리 불러오기\n",
    "import torch # Pytorch를 사용하기 위한 기본 라이브러리다.\n",
    "import numpy as np # Numpy를 사용하기 위한 기본 라이브러리다."
   ]
  },
  {
   "cell_type": "code",
   "execution_count": 2,
   "metadata": {},
   "outputs": [
    {
     "name": "stdout",
     "output_type": "stream",
     "text": [
      "tensor([[8.9082e-39, 5.9694e-39, 8.9082e-39, 1.0194e-38],\n",
      "        [9.1837e-39, 4.6837e-39, 9.9184e-39, 9.0000e-39],\n",
      "        [1.0561e-38, 1.0653e-38, 4.1327e-39, 8.9082e-39],\n",
      "        [9.8265e-39, 9.4592e-39, 1.0561e-38, 1.0653e-38],\n",
      "        [1.0469e-38, 9.5510e-39, 1.0378e-38, 8.9082e-39]])\n"
     ]
    }
   ],
   "source": [
    "# 빈 텐서 생성\n",
    "x = torch.empty(5,4) # 5x4 행렬 생성\n",
    "print(x) # 초기화되지 않은 행렬인 경우 해당 시점에 할당된 메모리에 존재하던 값들이 초기값으로 나타난다."
   ]
  },
  {
   "cell_type": "code",
   "execution_count": 3,
   "metadata": {},
   "outputs": [
    {
     "data": {
      "text/plain": [
       "tensor([[1., 1., 1.],\n",
       "        [1., 1., 1.],\n",
       "        [1., 1., 1.]])"
      ]
     },
     "execution_count": 3,
     "metadata": {},
     "output_type": "execute_result"
    }
   ],
   "source": [
    "torch.ones(3,3) # 3x3 일 행렬"
   ]
  },
  {
   "cell_type": "code",
   "execution_count": 4,
   "metadata": {},
   "outputs": [
    {
     "data": {
      "text/plain": [
       "tensor([0., 0.])"
      ]
     },
     "execution_count": 4,
     "metadata": {},
     "output_type": "execute_result"
    }
   ],
   "source": [
    "torch.zeros(2) # 2행 영 벡터"
   ]
  },
  {
   "cell_type": "code",
   "execution_count": 5,
   "metadata": {},
   "outputs": [
    {
     "data": {
      "text/plain": [
       "tensor([[0.8251, 0.0037, 0.0890, 0.6943, 0.8849, 0.8096],\n",
       "        [0.7177, 0.5448, 0.6631, 0.3262, 0.9155, 0.0641],\n",
       "        [0.2821, 0.2364, 0.3055, 0.6840, 0.5307, 0.3584],\n",
       "        [0.0600, 0.9688, 0.1669, 0.8024, 0.5998, 0.7152],\n",
       "        [0.1721, 0.7122, 0.9531, 0.9306, 0.9715, 0.7723]])"
      ]
     },
     "execution_count": 5,
     "metadata": {},
     "output_type": "execute_result"
    }
   ],
   "source": [
    "torch.rand(5,6) # 5,6 랜덤 행렬"
   ]
  },
  {
   "cell_type": "markdown",
   "metadata": {
    "id": "REDrqqr0qPko"
   },
   "source": [
    "## 1.2 리스트, 넘파이 배열을 텐서로 만들기"
   ]
  },
  {
   "cell_type": "code",
   "execution_count": 6,
   "metadata": {},
   "outputs": [],
   "source": [
    "l = [13,4] # 리스트 생성\n",
    "r = np.array([4,56,7]) # 넘파이 배열 생성"
   ]
  },
  {
   "cell_type": "code",
   "execution_count": 7,
   "metadata": {},
   "outputs": [
    {
     "data": {
      "text/plain": [
       "tensor([13,  4])"
      ]
     },
     "execution_count": 7,
     "metadata": {},
     "output_type": "execute_result"
    }
   ],
   "source": [
    "torch.tensor(l) # 리스트를 텐서로 쉽게 변환할 수 있다."
   ]
  },
  {
   "cell_type": "code",
   "execution_count": 8,
   "metadata": {},
   "outputs": [
    {
     "data": {
      "text/plain": [
       "tensor([ 4, 56,  7], dtype=torch.int32)"
      ]
     },
     "execution_count": 8,
     "metadata": {},
     "output_type": "execute_result"
    }
   ],
   "source": [
    "torch.tensor(r) #넘파이 배열을 텐서로 쉽게 변환할 수 있다."
   ]
  },
  {
   "cell_type": "markdown",
   "metadata": {
    "id": "dGAqghDlqPkq"
   },
   "source": [
    "## 1.3 텐서의 크기와 타입 확인하기"
   ]
  },
  {
   "cell_type": "code",
   "execution_count": 10,
   "metadata": {},
   "outputs": [
    {
     "data": {
      "text/plain": [
       "4"
      ]
     },
     "execution_count": 10,
     "metadata": {},
     "output_type": "execute_result"
    }
   ],
   "source": [
    "x.size()[1] # .size()는 텐서의 크기를 확인할 수 있으며 매우 자주 사용된다."
   ]
  },
  {
   "cell_type": "code",
   "execution_count": 11,
   "metadata": {},
   "outputs": [
    {
     "data": {
      "text/plain": [
       "torch.Tensor"
      ]
     },
     "execution_count": 11,
     "metadata": {},
     "output_type": "execute_result"
    }
   ],
   "source": [
    "type(x) # type은 Python에서 사용되는 모든 것들을 종류를 보여준다. "
   ]
  },
  {
   "cell_type": "code",
   "execution_count": 12,
   "metadata": {},
   "outputs": [
    {
     "name": "stdout",
     "output_type": "stream",
     "text": [
      "tensor([[0.1642, 0.2998],\n",
      "        [0.3750, 0.5736]])\n",
      "tensor([[0.8880, 0.3242],\n",
      "        [0.3036, 0.5495]])\n"
     ]
    }
   ],
   "source": [
    "x = torch.rand(2,2) # 2x2 랜덤 행렬\n",
    "y = torch.rand(2,2) # 2x2 랜덤 행렬\n",
    "print(x)\n",
    "print(y)"
   ]
  },
  {
   "cell_type": "code",
   "execution_count": 13,
   "metadata": {},
   "outputs": [
    {
     "data": {
      "text/plain": [
       "tensor([[1.0522, 0.6239],\n",
       "        [0.6786, 1.1232]])"
      ]
     },
     "execution_count": 13,
     "metadata": {},
     "output_type": "execute_result"
    }
   ],
   "source": [
    "x+y # 두 텐서의 합"
   ]
  },
  {
   "cell_type": "code",
   "execution_count": 14,
   "metadata": {},
   "outputs": [
    {
     "data": {
      "text/plain": [
       "tensor([[1.0522, 0.6239],\n",
       "        [0.6786, 1.1232]])"
      ]
     },
     "execution_count": 14,
     "metadata": {},
     "output_type": "execute_result"
    }
   ],
   "source": [
    "torch.add(x,y) # 두 텐서의 합의 또 다른 표현"
   ]
  },
  {
   "cell_type": "code",
   "execution_count": 15,
   "metadata": {},
   "outputs": [
    {
     "data": {
      "text/plain": [
       "tensor([[1.0522, 0.6239],\n",
       "        [0.6786, 1.1232]])"
      ]
     },
     "execution_count": 15,
     "metadata": {},
     "output_type": "execute_result"
    }
   ],
   "source": [
    "y.add(x) # 두 텐서의 합의 또 다른 표현이지만 이는 y에 x를 더한다는 의미다."
   ]
  },
  {
   "cell_type": "code",
   "execution_count": 16,
   "metadata": {},
   "outputs": [
    {
     "name": "stdout",
     "output_type": "stream",
     "text": [
      "원래 y:  tensor([[0.8880, 0.3242],\n",
      "        [0.3036, 0.5495]])\n",
      "y=y+x:  tensor([[1.0522, 0.6239],\n",
      "        [0.6786, 1.1232]])\n"
     ]
    }
   ],
   "source": [
    "print(\"원래 y: \", y)\n",
    "y.add_(x)\n",
    "print(\"y=y+x: \",y)\n",
    "\n",
    "# y.add_는 y에 x를 더한 값을 y에 대체한다.(inplace 방식)"
   ]
  },
  {
   "cell_type": "markdown",
   "metadata": {
    "id": "mZ0Pig0BqPkw"
   },
   "source": [
    "## 1.5 텐서의 크기 변환하기"
   ]
  },
  {
   "cell_type": "code",
   "execution_count": 17,
   "metadata": {},
   "outputs": [
    {
     "name": "stdout",
     "output_type": "stream",
     "text": [
      "torch.Size([8, 8])\n"
     ]
    }
   ],
   "source": [
    "x = torch.rand(8,8) # 8x8 랜덤 행렬\n",
    "print(x.size())"
   ]
  },
  {
   "cell_type": "code",
   "execution_count": 18,
   "metadata": {},
   "outputs": [
    {
     "name": "stdout",
     "output_type": "stream",
     "text": [
      "torch.Size([64])\n"
     ]
    }
   ],
   "source": [
    "a = x.view(64) # 크기를 바꿔주는 view 8x8 -> 64\n",
    "print(a.size())"
   ]
  },
  {
   "cell_type": "code",
   "execution_count": 19,
   "metadata": {},
   "outputs": [
    {
     "name": "stdout",
     "output_type": "stream",
     "text": [
      "torch.Size([4, 4, 4])\n"
     ]
    }
   ],
   "source": [
    "b = x.view(-1,4,4) # -1은 원래 크기가 되게 하는 값 8x8 -> -1x4x4 즉, 4x4x4이다.\n",
    "print(b.size()) \n",
    "\n",
    "# 따라서 -1은 원래 크기가 되게 하는 값이 자동으로 지정되기 때문에 한 번만 사용할 수 있다. \n",
    "# 예를 들어 x.view(-1,-1,4)와 같은 선언은 오류가 난다."
   ]
  },
  {
   "cell_type": "markdown",
   "metadata": {
    "id": "2gsF5wWDqPkx"
   },
   "source": [
    "## 1.6 텐서에서 넘파이로 만들기"
   ]
  },
  {
   "cell_type": "code",
   "execution_count": 20,
   "metadata": {},
   "outputs": [
    {
     "name": "stdout",
     "output_type": "stream",
     "text": [
      "[[0.16849405 0.4578299  0.20527267 0.83358485 0.03465074 0.95311666\n",
      "  0.333744   0.6643823 ]\n",
      " [0.2764541  0.5954518  0.2692147  0.5256448  0.49700135 0.15283537\n",
      "  0.25660837 0.87977654]\n",
      " [0.17412502 0.43413007 0.8013221  0.9842426  0.7975203  0.49262416\n",
      "  0.7998201  0.27717888]\n",
      " [0.04440504 0.10322917 0.8336891  0.557894   0.41402733 0.28345048\n",
      "  0.37513465 0.02339894]\n",
      " [0.13993204 0.02375448 0.1918416  0.44558907 0.9457377  0.9412522\n",
      "  0.11698174 0.35610598]\n",
      " [0.46314758 0.7695324  0.7026266  0.32708603 0.26566315 0.60321814\n",
      "  0.76493835 0.42806917]\n",
      " [0.54800755 0.16355497 0.22192067 0.7033036  0.4017262  0.93673825\n",
      "  0.7935792  0.12284344]\n",
      " [0.08555049 0.86008245 0.3496492  0.7615522  0.8718193  0.25743347\n",
      "  0.69223905 0.54483265]]\n"
     ]
    }
   ],
   "source": [
    "x = torch.rand(8,8)\n",
    "y = x.numpy() # .numpy()로 매우 간단하게 넘파이 배열로 만들 수 있다.\n",
    "print(y)"
   ]
  },
  {
   "cell_type": "code",
   "execution_count": 21,
   "metadata": {},
   "outputs": [
    {
     "data": {
      "text/plain": [
       "numpy.ndarray"
      ]
     },
     "execution_count": 21,
     "metadata": {},
     "output_type": "execute_result"
    }
   ],
   "source": [
    "type(y)"
   ]
  },
  {
   "cell_type": "markdown",
   "metadata": {
    "id": "zt40oVS_qPkz"
   },
   "source": [
    "## 1.7 단일 텐서에서 값으로 뽑아내기"
   ]
  },
  {
   "cell_type": "code",
   "execution_count": 22,
   "metadata": {},
   "outputs": [],
   "source": [
    "x = torch.ones(1)"
   ]
  },
  {
   "cell_type": "code",
   "execution_count": 23,
   "metadata": {},
   "outputs": [
    {
     "name": "stdout",
     "output_type": "stream",
     "text": [
      "tensor([1.])\n",
      "1.0\n"
     ]
    }
   ],
   "source": [
    "print(x)\n",
    "print(x.item()) # .item()은 손실 함숫값과 같이 숫자가 하나인 텐서를 텐서가 아닌 값으로 만들어 준다."
   ]
  }
 ],
 "metadata": {
  "kernelspec": {
   "display_name": "Python 3",
   "language": "python",
   "name": "python3"
  },
  "language_info": {
   "codemirror_mode": {
    "name": "ipython",
    "version": 3
   },
   "file_extension": ".py",
   "mimetype": "text/x-python",
   "name": "python",
   "nbconvert_exporter": "python",
   "pygments_lexer": "ipython3",
   "version": "3.8.3"
  }
 },
 "nbformat": 4,
 "nbformat_minor": 4
}
